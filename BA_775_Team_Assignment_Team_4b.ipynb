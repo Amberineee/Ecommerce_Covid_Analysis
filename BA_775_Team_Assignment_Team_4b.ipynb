{
  "nbformat": 4,
  "nbformat_minor": 0,
  "metadata": {
    "colab": {
      "name": "BA 775-Team Assignment-Team 4b.ipynb",
      "provenance": [],
      "collapsed_sections": [],
      "include_colab_link": true
    },
    "kernelspec": {
      "name": "python3",
      "display_name": "Python 3"
    }
  },
  "cells": [
    {
      "cell_type": "markdown",
      "metadata": {
        "id": "view-in-github",
        "colab_type": "text"
      },
      "source": [
        "<a href=\"https://colab.research.google.com/github/Amberineee/ecommerce_covid_analysis/blob/main/BA_775_Team_Assignment_Team_4b.ipynb\" target=\"_parent\"><img src=\"https://colab.research.google.com/assets/colab-badge.svg\" alt=\"Open In Colab\"/></a>"
      ]
    },
    {
      "cell_type": "code",
      "metadata": {
        "id": "K6swC_0CfBgw"
      },
      "source": [
        "from google.colab import auth\n",
        "auth.authenticate_user()"
      ],
      "execution_count": null,
      "outputs": []
    },
    {
      "cell_type": "code",
      "metadata": {
        "id": "6pxzqDLdESiE",
        "outputId": "2b0e99b1-fcc2-46e1-d2af-a8f9a86352f6",
        "colab": {
          "base_uri": "https://localhost:8080/"
        }
      },
      "source": [
        "from google.colab import drive\n",
        "drive.mount('/content/drive')"
      ],
      "execution_count": null,
      "outputs": [
        {
          "output_type": "stream",
          "text": [
            "Mounted at /content/drive\n"
          ],
          "name": "stdout"
        }
      ]
    },
    {
      "cell_type": "markdown",
      "metadata": {
        "id": "nV8qGu00i1OF"
      },
      "source": [
        "#E-commerce Dataset 2020\n",
        "\n",
        "**For this project, we want to enhance the webpage with the provided dataset of e-Commerce dataset in February and April by taking in consideration COVID-19 pandemic.**\n",
        "\n",
        "Goal: Our goal is analyzing customer online purchasing behavior during pre covid-19 and post covid-19 using February and April dataset, respectively. Which allows us to understand the traffic of the website and conversion made by consumers to potential solve E-commerce’s dataset problems, and expand the opportunities for marketing campaigns, target promotions and optimizing the inventory level.\n",
        "\n",
        "Dataset: https://www.kaggle.com/mkechinov/ecommerce-behavior-data-from-multi-category-store"
      ]
    },
    {
      "cell_type": "markdown",
      "metadata": {
        "id": "31eT6tC1nLYe"
      },
      "source": [
        "##First, Let's have a look for the month of February (Pre-COVID):"
      ]
    },
    {
      "cell_type": "markdown",
      "metadata": {
        "id": "OBpvt8f3oBe0"
      },
      "source": [
        "###To begin, we will identify the Top 10 popular brands that are purchased by the consumers for February 2020."
      ]
    },
    {
      "cell_type": "code",
      "metadata": {
        "id": "80ifu6LagERx",
        "outputId": "44aefe4c-8276-4407-f40b-4bec334e647f",
        "colab": {
          "base_uri": "https://localhost:8080/",
          "height": 356
        }
      },
      "source": [
        "%%bigquery --project ba775-team-4b\n",
        "SELECT brand, count(brand) AS total_brand_purchase\n",
        "FROM `ba775-team-4b.4b_dataset.ecommerce_feb_2020` \n",
        "WHERE event_type = 'purchase'\n",
        "GROUP BY brand\n",
        "ORDER BY count(brand) DESC\n",
        "LIMIT 10"
      ],
      "execution_count": null,
      "outputs": [
        {
          "output_type": "execute_result",
          "data": {
            "text/html": [
              "<div>\n",
              "<style scoped>\n",
              "    .dataframe tbody tr th:only-of-type {\n",
              "        vertical-align: middle;\n",
              "    }\n",
              "\n",
              "    .dataframe tbody tr th {\n",
              "        vertical-align: top;\n",
              "    }\n",
              "\n",
              "    .dataframe thead th {\n",
              "        text-align: right;\n",
              "    }\n",
              "</style>\n",
              "<table border=\"1\" class=\"dataframe\">\n",
              "  <thead>\n",
              "    <tr style=\"text-align: right;\">\n",
              "      <th></th>\n",
              "      <th>brand</th>\n",
              "      <th>total_brand_purchase</th>\n",
              "    </tr>\n",
              "  </thead>\n",
              "  <tbody>\n",
              "    <tr>\n",
              "      <th>0</th>\n",
              "      <td>samsung</td>\n",
              "      <td>272529</td>\n",
              "    </tr>\n",
              "    <tr>\n",
              "      <th>1</th>\n",
              "      <td>apple</td>\n",
              "      <td>268971</td>\n",
              "    </tr>\n",
              "    <tr>\n",
              "      <th>2</th>\n",
              "      <td>xiaomi</td>\n",
              "      <td>108343</td>\n",
              "    </tr>\n",
              "    <tr>\n",
              "      <th>3</th>\n",
              "      <td>huawei</td>\n",
              "      <td>41163</td>\n",
              "    </tr>\n",
              "    <tr>\n",
              "      <th>4</th>\n",
              "      <td>lucente</td>\n",
              "      <td>22638</td>\n",
              "    </tr>\n",
              "    <tr>\n",
              "      <th>5</th>\n",
              "      <td>oppo</td>\n",
              "      <td>18628</td>\n",
              "    </tr>\n",
              "    <tr>\n",
              "      <th>6</th>\n",
              "      <td>lg</td>\n",
              "      <td>13083</td>\n",
              "    </tr>\n",
              "    <tr>\n",
              "      <th>7</th>\n",
              "      <td>acer</td>\n",
              "      <td>12155</td>\n",
              "    </tr>\n",
              "    <tr>\n",
              "      <th>8</th>\n",
              "      <td>sony</td>\n",
              "      <td>11117</td>\n",
              "    </tr>\n",
              "    <tr>\n",
              "      <th>9</th>\n",
              "      <td>artel</td>\n",
              "      <td>9403</td>\n",
              "    </tr>\n",
              "  </tbody>\n",
              "</table>\n",
              "</div>"
            ],
            "text/plain": [
              "     brand  total_brand_purchase\n",
              "0  samsung                272529\n",
              "1    apple                268971\n",
              "2   xiaomi                108343\n",
              "3   huawei                 41163\n",
              "4  lucente                 22638\n",
              "5     oppo                 18628\n",
              "6       lg                 13083\n",
              "7     acer                 12155\n",
              "8     sony                 11117\n",
              "9    artel                  9403"
            ]
          },
          "metadata": {
            "tags": []
          },
          "execution_count": 3
        }
      ]
    },
    {
      "cell_type": "markdown",
      "metadata": {
        "id": "IsZGLIi2jaCf"
      },
      "source": [
        "Results: We noticed that Samsung is consumer’s favorite brand, followed by Apple and Xiaomi. All electronic brands!"
      ]
    },
    {
      "cell_type": "markdown",
      "metadata": {
        "id": "Hi-aseHjoJwj"
      },
      "source": [
        "###Next, let’s give a look to the conversion rate for the month of February from 2020."
      ]
    },
    {
      "cell_type": "code",
      "metadata": {
        "id": "qJkNDevvfJ8S",
        "outputId": "62865fdd-f20b-47bb-8a98-0c150fc2417b",
        "colab": {
          "base_uri": "https://localhost:8080/",
          "height": 359
        }
      },
      "source": [
        "%%bigquery --project ba775-team-4b\n",
        "SELECT \n",
        "COUNTIF(event_type = 'purchase')/COUNT(event_type) AS conversion_rate, \n",
        "category_code,\n",
        "ROUND(sum(price), 2) AS total_Price\n",
        "FROM `ba775-team-4b.4b_dataset.ecommerce_feb_2020` \n",
        "GROUP BY category_code\n",
        "ORDER BY Conversion_rate DESC\n",
        "limit 10"
      ],
      "execution_count": null,
      "outputs": [
        {
          "output_type": "execute_result",
          "data": {
            "text/html": [
              "<div>\n",
              "<style scoped>\n",
              "    .dataframe tbody tr th:only-of-type {\n",
              "        vertical-align: middle;\n",
              "    }\n",
              "\n",
              "    .dataframe tbody tr th {\n",
              "        vertical-align: top;\n",
              "    }\n",
              "\n",
              "    .dataframe thead th {\n",
              "        text-align: right;\n",
              "    }\n",
              "</style>\n",
              "<table border=\"1\" class=\"dataframe\">\n",
              "  <thead>\n",
              "    <tr style=\"text-align: right;\">\n",
              "      <th></th>\n",
              "      <th>conversion_rate</th>\n",
              "      <th>category_code</th>\n",
              "      <th>total_Price</th>\n",
              "    </tr>\n",
              "  </thead>\n",
              "  <tbody>\n",
              "    <tr>\n",
              "      <th>0</th>\n",
              "      <td>0.039678</td>\n",
              "      <td>construction.tools.light</td>\n",
              "      <td>6.924581e+09</td>\n",
              "    </tr>\n",
              "    <tr>\n",
              "      <th>1</th>\n",
              "      <td>0.033384</td>\n",
              "      <td>apparel.trousers</td>\n",
              "      <td>1.176035e+07</td>\n",
              "    </tr>\n",
              "    <tr>\n",
              "      <th>2</th>\n",
              "      <td>0.031790</td>\n",
              "      <td>sport.bicycle</td>\n",
              "      <td>2.612554e+08</td>\n",
              "    </tr>\n",
              "    <tr>\n",
              "      <th>3</th>\n",
              "      <td>0.029122</td>\n",
              "      <td>appliances.kitchen.coffee_grinder</td>\n",
              "      <td>1.516006e+08</td>\n",
              "    </tr>\n",
              "    <tr>\n",
              "      <th>4</th>\n",
              "      <td>0.023554</td>\n",
              "      <td>computers.peripherals.monitor</td>\n",
              "      <td>1.224788e+06</td>\n",
              "    </tr>\n",
              "    <tr>\n",
              "      <th>5</th>\n",
              "      <td>0.022951</td>\n",
              "      <td>appliances.iron</td>\n",
              "      <td>2.446870e+05</td>\n",
              "    </tr>\n",
              "    <tr>\n",
              "      <th>6</th>\n",
              "      <td>0.022474</td>\n",
              "      <td>appliances.kitchen.washer</td>\n",
              "      <td>2.495541e+08</td>\n",
              "    </tr>\n",
              "    <tr>\n",
              "      <th>7</th>\n",
              "      <td>0.021946</td>\n",
              "      <td>construction.components.faucet</td>\n",
              "      <td>1.307150e+08</td>\n",
              "    </tr>\n",
              "    <tr>\n",
              "      <th>8</th>\n",
              "      <td>0.021524</td>\n",
              "      <td>appliances.personal.massager</td>\n",
              "      <td>6.414340e+08</td>\n",
              "    </tr>\n",
              "    <tr>\n",
              "      <th>9</th>\n",
              "      <td>0.021168</td>\n",
              "      <td>furniture.bedroom.blanket</td>\n",
              "      <td>1.182731e+08</td>\n",
              "    </tr>\n",
              "  </tbody>\n",
              "</table>\n",
              "</div>"
            ],
            "text/plain": [
              "   conversion_rate                      category_code   total_Price\n",
              "0         0.039678           construction.tools.light  6.924581e+09\n",
              "1         0.033384                   apparel.trousers  1.176035e+07\n",
              "2         0.031790                      sport.bicycle  2.612554e+08\n",
              "3         0.029122  appliances.kitchen.coffee_grinder  1.516006e+08\n",
              "4         0.023554      computers.peripherals.monitor  1.224788e+06\n",
              "5         0.022951                    appliances.iron  2.446870e+05\n",
              "6         0.022474          appliances.kitchen.washer  2.495541e+08\n",
              "7         0.021946     construction.components.faucet  1.307150e+08\n",
              "8         0.021524       appliances.personal.massager  6.414340e+08\n",
              "9         0.021168          furniture.bedroom.blanket  1.182731e+08"
            ]
          },
          "metadata": {
            "tags": []
          },
          "execution_count": 3
        }
      ]
    },
    {
      "cell_type": "markdown",
      "metadata": {
        "id": "EjtghnGWjpTr"
      },
      "source": [
        "Results: It shows that the highest conversion rate is the construction tools with a rate of 0.0397, followed by apparel with a rate of 0.0334."
      ]
    },
    {
      "cell_type": "markdown",
      "metadata": {
        "id": "-macok3DoW1u"
      },
      "source": [
        "###We also want to identify who are the Top consumers in the ecommerce webpage, and how much do they spend for this month, February."
      ]
    },
    {
      "cell_type": "code",
      "metadata": {
        "id": "UnVI3K9chSmq",
        "outputId": "bb1c6993-8087-4dd1-bebe-f0f8e29c9537",
        "colab": {
          "base_uri": "https://localhost:8080/",
          "height": 362
        }
      },
      "source": [
        "%%bigquery --project ba775-team-4b\n",
        "SELECT user_id, ROUND(SUM(price)) AS total_spending_FEB\n",
        "FROM `ba775-team-4b.4b_dataset.ecommerce_feb_2020`\n",
        "WHERE event_type = 'purchase'\n",
        "GROUP BY user_id\n",
        "ORDER BY total_spending_FEB DESC\n",
        "LIMIT 10"
      ],
      "execution_count": null,
      "outputs": [
        {
          "output_type": "execute_result",
          "data": {
            "text/html": [
              "<div>\n",
              "<style scoped>\n",
              "    .dataframe tbody tr th:only-of-type {\n",
              "        vertical-align: middle;\n",
              "    }\n",
              "\n",
              "    .dataframe tbody tr th {\n",
              "        vertical-align: top;\n",
              "    }\n",
              "\n",
              "    .dataframe thead th {\n",
              "        text-align: right;\n",
              "    }\n",
              "</style>\n",
              "<table border=\"1\" class=\"dataframe\">\n",
              "  <thead>\n",
              "    <tr style=\"text-align: right;\">\n",
              "      <th></th>\n",
              "      <th>user_id</th>\n",
              "      <th>total_spending_FEB</th>\n",
              "    </tr>\n",
              "  </thead>\n",
              "  <tbody>\n",
              "    <tr>\n",
              "      <th>0</th>\n",
              "      <td>563051763</td>\n",
              "      <td>302726.0</td>\n",
              "    </tr>\n",
              "    <tr>\n",
              "      <th>1</th>\n",
              "      <td>610871788</td>\n",
              "      <td>292203.0</td>\n",
              "    </tr>\n",
              "    <tr>\n",
              "      <th>2</th>\n",
              "      <td>529168923</td>\n",
              "      <td>277318.0</td>\n",
              "    </tr>\n",
              "    <tr>\n",
              "      <th>3</th>\n",
              "      <td>598224683</td>\n",
              "      <td>247694.0</td>\n",
              "    </tr>\n",
              "    <tr>\n",
              "      <th>4</th>\n",
              "      <td>569374504</td>\n",
              "      <td>235511.0</td>\n",
              "    </tr>\n",
              "    <tr>\n",
              "      <th>5</th>\n",
              "      <td>522482125</td>\n",
              "      <td>219680.0</td>\n",
              "    </tr>\n",
              "    <tr>\n",
              "      <th>6</th>\n",
              "      <td>590847617</td>\n",
              "      <td>213194.0</td>\n",
              "    </tr>\n",
              "    <tr>\n",
              "      <th>7</th>\n",
              "      <td>613954635</td>\n",
              "      <td>206130.0</td>\n",
              "    </tr>\n",
              "    <tr>\n",
              "      <th>8</th>\n",
              "      <td>549109608</td>\n",
              "      <td>182247.0</td>\n",
              "    </tr>\n",
              "    <tr>\n",
              "      <th>9</th>\n",
              "      <td>541733121</td>\n",
              "      <td>179060.0</td>\n",
              "    </tr>\n",
              "  </tbody>\n",
              "</table>\n",
              "</div>"
            ],
            "text/plain": [
              "     user_id  total_spending_FEB\n",
              "0  563051763            302726.0\n",
              "1  610871788            292203.0\n",
              "2  529168923            277318.0\n",
              "3  598224683            247694.0\n",
              "4  569374504            235511.0\n",
              "5  522482125            219680.0\n",
              "6  590847617            213194.0\n",
              "7  613954635            206130.0\n",
              "8  549109608            182247.0\n",
              "9  541733121            179060.0"
            ]
          },
          "metadata": {
            "tags": []
          },
          "execution_count": 8
        }
      ]
    },
    {
      "cell_type": "markdown",
      "metadata": {
        "id": "Mo4Uix5-kAsP"
      },
      "source": [
        "Result: our Top consumer identified as user_id: '563051763' spent around $302,726.0 on the webpage."
      ]
    },
    {
      "cell_type": "markdown",
      "metadata": {
        "id": "QFfDj6ULojlg"
      },
      "source": [
        "###Now, let’s check the average of all users’ spendings for the month of February."
      ]
    },
    {
      "cell_type": "code",
      "metadata": {
        "id": "jXCWsE_shfAr",
        "outputId": "d78a44a4-8f0c-4ba3-8f8c-df53e62ba113",
        "colab": {
          "base_uri": "https://localhost:8080/",
          "height": 80
        }
      },
      "source": [
        "%%bigquery --project ba775-team-4b\n",
        "SELECT ROUND(AVG(price), 2) as avg_spending_feb\n",
        "FROM `ba775-team-4b.4b_dataset.ecommerce_feb_2020`\n",
        "WHERE event_type = 'purchase'\n",
        "LIMIT 10"
      ],
      "execution_count": null,
      "outputs": [
        {
          "output_type": "execute_result",
          "data": {
            "text/html": [
              "<div>\n",
              "<style scoped>\n",
              "    .dataframe tbody tr th:only-of-type {\n",
              "        vertical-align: middle;\n",
              "    }\n",
              "\n",
              "    .dataframe tbody tr th {\n",
              "        vertical-align: top;\n",
              "    }\n",
              "\n",
              "    .dataframe thead th {\n",
              "        text-align: right;\n",
              "    }\n",
              "</style>\n",
              "<table border=\"1\" class=\"dataframe\">\n",
              "  <thead>\n",
              "    <tr style=\"text-align: right;\">\n",
              "      <th></th>\n",
              "      <th>avg_spending_feb</th>\n",
              "    </tr>\n",
              "  </thead>\n",
              "  <tbody>\n",
              "    <tr>\n",
              "      <th>0</th>\n",
              "      <td>317.57</td>\n",
              "    </tr>\n",
              "  </tbody>\n",
              "</table>\n",
              "</div>"
            ],
            "text/plain": [
              "   avg_spending_feb\n",
              "0            317.57"
            ]
          },
          "metadata": {
            "tags": []
          },
          "execution_count": 9
        }
      ]
    },
    {
      "cell_type": "markdown",
      "metadata": {
        "id": "Wo1dR1lIkGAC"
      },
      "source": [
        "Result: The average of users’ spendings for the month of February is $317.57."
      ]
    },
    {
      "cell_type": "markdown",
      "metadata": {
        "id": "oJQeiVCXoqxI"
      },
      "source": [
        "###After identifying the highest consumer as user_id: '563051763', we want to compare their spending with the average of all users’ spendings for the month of February."
      ]
    },
    {
      "cell_type": "code",
      "metadata": {
        "id": "3woImyOrifQU"
      },
      "source": [
        "%%bigquery --project ba775-team-4b\n",
        "SELECT user_id AS USER_ID, ROUND(SUM(price)) AS Total_spending, COUNT(user_session) as Sessions, \n",
        "(\n",
        "SELECT round(AVG(price), 2) as avg_spending\n",
        "FROM `ba775-team-4b.4b_dataset.ecommerce_feb_2020`\n",
        "WHERE event_type = 'purchase'\n",
        ") as Avg_spending_of_all_users\n",
        " \n",
        "  FROM `ba775-team-4b.4b_dataset.ecommerce_feb_2020`\n",
        "  WHERE user_id = 563051763 and event_type = 'purchase'\n",
        "  GROUP BY user_id"
      ],
      "execution_count": null,
      "outputs": []
    },
    {
      "cell_type": "markdown",
      "metadata": {
        "id": "3cBTvdPhkfRK"
      },
      "source": [
        "This query shows the top buyer who have spend the most in this ecommerce website, number of sessions, and the average of all users' spendings."
      ]
    },
    {
      "cell_type": "markdown",
      "metadata": {
        "id": "HOYMToWjo0cH"
      },
      "source": [
        "## Now, we would check for the month of April (post-COVID):"
      ]
    },
    {
      "cell_type": "markdown",
      "metadata": {
        "id": "D_J4uLaIo0qr"
      },
      "source": [
        "###For the month of April, 2020. We will identify the Top 10 popular brands that were purchased by the consumers during post COVID."
      ]
    },
    {
      "cell_type": "code",
      "metadata": {
        "id": "muLQMAv2ik7k",
        "outputId": "1576f954-d991-47c8-810f-d280796e09c2",
        "colab": {
          "base_uri": "https://localhost:8080/",
          "height": 362
        }
      },
      "source": [
        "%%bigquery --project ba775-team-4b\n",
        "SELECT brand, count(brand) AS total_brand_purchase\n",
        "FROM `ba775-team-4b.4b_dataset.ecommerce_april_2020`\n",
        "WHERE event_type = 'purchase'\n",
        "GROUP BY brand\n",
        "ORDER BY count(brand) DESC\n",
        "LIMIT 10"
      ],
      "execution_count": null,
      "outputs": [
        {
          "output_type": "execute_result",
          "data": {
            "text/html": [
              "<div>\n",
              "<style scoped>\n",
              "    .dataframe tbody tr th:only-of-type {\n",
              "        vertical-align: middle;\n",
              "    }\n",
              "\n",
              "    .dataframe tbody tr th {\n",
              "        vertical-align: top;\n",
              "    }\n",
              "\n",
              "    .dataframe thead th {\n",
              "        text-align: right;\n",
              "    }\n",
              "</style>\n",
              "<table border=\"1\" class=\"dataframe\">\n",
              "  <thead>\n",
              "    <tr style=\"text-align: right;\">\n",
              "      <th></th>\n",
              "      <th>brand</th>\n",
              "      <th>total_brand_purchase</th>\n",
              "    </tr>\n",
              "  </thead>\n",
              "  <tbody>\n",
              "    <tr>\n",
              "      <th>0</th>\n",
              "      <td>samsung</td>\n",
              "      <td>220305</td>\n",
              "    </tr>\n",
              "    <tr>\n",
              "      <th>1</th>\n",
              "      <td>apple</td>\n",
              "      <td>97694</td>\n",
              "    </tr>\n",
              "    <tr>\n",
              "      <th>2</th>\n",
              "      <td>xiaomi</td>\n",
              "      <td>63382</td>\n",
              "    </tr>\n",
              "    <tr>\n",
              "      <th>3</th>\n",
              "      <td>huawei</td>\n",
              "      <td>30754</td>\n",
              "    </tr>\n",
              "    <tr>\n",
              "      <th>4</th>\n",
              "      <td>oppo</td>\n",
              "      <td>24498</td>\n",
              "    </tr>\n",
              "    <tr>\n",
              "      <th>5</th>\n",
              "      <td>lg</td>\n",
              "      <td>17600</td>\n",
              "    </tr>\n",
              "    <tr>\n",
              "      <th>6</th>\n",
              "      <td>acer</td>\n",
              "      <td>12529</td>\n",
              "    </tr>\n",
              "    <tr>\n",
              "      <th>7</th>\n",
              "      <td>arg</td>\n",
              "      <td>11977</td>\n",
              "    </tr>\n",
              "    <tr>\n",
              "      <th>8</th>\n",
              "      <td>artel</td>\n",
              "      <td>11686</td>\n",
              "    </tr>\n",
              "    <tr>\n",
              "      <th>9</th>\n",
              "      <td>lenovo</td>\n",
              "      <td>11676</td>\n",
              "    </tr>\n",
              "  </tbody>\n",
              "</table>\n",
              "</div>"
            ],
            "text/plain": [
              "     brand  total_brand_purchase\n",
              "0  samsung                220305\n",
              "1    apple                 97694\n",
              "2   xiaomi                 63382\n",
              "3   huawei                 30754\n",
              "4     oppo                 24498\n",
              "5       lg                 17600\n",
              "6     acer                 12529\n",
              "7      arg                 11977\n",
              "8    artel                 11686\n",
              "9   lenovo                 11676"
            ]
          },
          "metadata": {
            "tags": []
          },
          "execution_count": 9
        }
      ]
    },
    {
      "cell_type": "markdown",
      "metadata": {
        "id": "oB2QrJ_bk22Z"
      },
      "source": [
        "Results: We noticed that the results are the same as pre-COVID (February). Samsung is still consumer’s favorite brand, followed by Apple and Xiaomi. All electronic brands!"
      ]
    },
    {
      "cell_type": "markdown",
      "metadata": {
        "id": "O2tfIUR2o_mT"
      },
      "source": [
        "###Let’s give a look to the conversion rate for the month of April."
      ]
    },
    {
      "cell_type": "code",
      "metadata": {
        "id": "NoYC3xwBk_2A",
        "outputId": "e3c9ee15-baaa-4014-bc7a-0b6588ab25da",
        "colab": {
          "base_uri": "https://localhost:8080/",
          "height": 359
        }
      },
      "source": [
        "%%bigquery --project ba775-team-4b\n",
        "SELECT countif(event_type = 'purchase')/count(event_type) AS Conversion_rate, category_code, sum(price) Total_Price\n",
        "FROM `ba775-team-4b.4b_dataset.ecommerce_april_2020`\n",
        "GROUP BY category_code\n",
        "ORDER BY Conversion_rate DESC\n",
        "limit 10"
      ],
      "execution_count": null,
      "outputs": [
        {
          "output_type": "execute_result",
          "data": {
            "text/html": [
              "<div>\n",
              "<style scoped>\n",
              "    .dataframe tbody tr th:only-of-type {\n",
              "        vertical-align: middle;\n",
              "    }\n",
              "\n",
              "    .dataframe tbody tr th {\n",
              "        vertical-align: top;\n",
              "    }\n",
              "\n",
              "    .dataframe thead th {\n",
              "        text-align: right;\n",
              "    }\n",
              "</style>\n",
              "<table border=\"1\" class=\"dataframe\">\n",
              "  <thead>\n",
              "    <tr style=\"text-align: right;\">\n",
              "      <th></th>\n",
              "      <th>Conversion_rate</th>\n",
              "      <th>category_code</th>\n",
              "      <th>Total_Price</th>\n",
              "    </tr>\n",
              "  </thead>\n",
              "  <tbody>\n",
              "    <tr>\n",
              "      <th>0</th>\n",
              "      <td>0.038462</td>\n",
              "      <td>stationery.paper</td>\n",
              "      <td>3.001600e+02</td>\n",
              "    </tr>\n",
              "    <tr>\n",
              "      <th>1</th>\n",
              "      <td>0.037915</td>\n",
              "      <td>appliances.kitchen.microwave</td>\n",
              "      <td>4.601638e+04</td>\n",
              "    </tr>\n",
              "    <tr>\n",
              "      <th>2</th>\n",
              "      <td>0.025873</td>\n",
              "      <td>construction.tools.light</td>\n",
              "      <td>6.016810e+09</td>\n",
              "    </tr>\n",
              "    <tr>\n",
              "      <th>3</th>\n",
              "      <td>0.024909</td>\n",
              "      <td>apparel.trousers</td>\n",
              "      <td>1.444334e+07</td>\n",
              "    </tr>\n",
              "    <tr>\n",
              "      <th>4</th>\n",
              "      <td>0.023162</td>\n",
              "      <td>appliances.environment.fan</td>\n",
              "      <td>1.147744e+05</td>\n",
              "    </tr>\n",
              "    <tr>\n",
              "      <th>5</th>\n",
              "      <td>0.020105</td>\n",
              "      <td>kids.swing</td>\n",
              "      <td>3.339037e+07</td>\n",
              "    </tr>\n",
              "    <tr>\n",
              "      <th>6</th>\n",
              "      <td>0.018161</td>\n",
              "      <td>appliances.iron</td>\n",
              "      <td>6.491237e+04</td>\n",
              "    </tr>\n",
              "    <tr>\n",
              "      <th>7</th>\n",
              "      <td>0.018007</td>\n",
              "      <td>furniture.universal.light</td>\n",
              "      <td>8.076204e+06</td>\n",
              "    </tr>\n",
              "    <tr>\n",
              "      <th>8</th>\n",
              "      <td>0.017219</td>\n",
              "      <td>sport.bicycle</td>\n",
              "      <td>1.820103e+08</td>\n",
              "    </tr>\n",
              "    <tr>\n",
              "      <th>9</th>\n",
              "      <td>0.016626</td>\n",
              "      <td>electronics.camera.photo</td>\n",
              "      <td>1.650642e+07</td>\n",
              "    </tr>\n",
              "  </tbody>\n",
              "</table>\n",
              "</div>"
            ],
            "text/plain": [
              "   Conversion_rate                 category_code   Total_Price\n",
              "0         0.038462              stationery.paper  3.001600e+02\n",
              "1         0.037915  appliances.kitchen.microwave  4.601638e+04\n",
              "2         0.025873      construction.tools.light  6.016810e+09\n",
              "3         0.024909              apparel.trousers  1.444334e+07\n",
              "4         0.023162    appliances.environment.fan  1.147744e+05\n",
              "5         0.020105                    kids.swing  3.339037e+07\n",
              "6         0.018161               appliances.iron  6.491237e+04\n",
              "7         0.018007     furniture.universal.light  8.076204e+06\n",
              "8         0.017219                 sport.bicycle  1.820103e+08\n",
              "9         0.016626      electronics.camera.photo  1.650642e+07"
            ]
          },
          "metadata": {
            "tags": []
          },
          "execution_count": 4
        }
      ]
    },
    {
      "cell_type": "markdown",
      "metadata": {
        "id": "Q_40jexVlNom"
      },
      "source": [
        "Results: It shows that the highest conversion rate is the stationery paper with a rate of 0.038, followed by kitchen appliances with a small difference of 0.001."
      ]
    },
    {
      "cell_type": "markdown",
      "metadata": {
        "id": "7c9lWGP_pJWZ"
      },
      "source": [
        "###Next, we want to identify who are the Top consumers in the ecommerce webpage, and how much they spend."
      ]
    },
    {
      "cell_type": "code",
      "metadata": {
        "id": "T7YMdHRJlGfv",
        "outputId": "33e7f585-e30c-428f-ea33-e81525c57934",
        "colab": {
          "base_uri": "https://localhost:8080/",
          "height": 359
        }
      },
      "source": [
        "%%bigquery --project ba775-team-4b\n",
        "SELECT user_id, round(SUM(price), 2) as total_spending\n",
        "FROM `ba775-team-4b.4b_dataset.ecommerce_april_2020`\n",
        "WHERE event_type = 'purchase'\n",
        "GROUP BY user_id\n",
        "ORDER by total_spending DESC\n",
        "LIMIT 10"
      ],
      "execution_count": null,
      "outputs": [
        {
          "output_type": "execute_result",
          "data": {
            "text/html": [
              "<div>\n",
              "<style scoped>\n",
              "    .dataframe tbody tr th:only-of-type {\n",
              "        vertical-align: middle;\n",
              "    }\n",
              "\n",
              "    .dataframe tbody tr th {\n",
              "        vertical-align: top;\n",
              "    }\n",
              "\n",
              "    .dataframe thead th {\n",
              "        text-align: right;\n",
              "    }\n",
              "</style>\n",
              "<table border=\"1\" class=\"dataframe\">\n",
              "  <thead>\n",
              "    <tr style=\"text-align: right;\">\n",
              "      <th></th>\n",
              "      <th>user_id</th>\n",
              "      <th>total_spending</th>\n",
              "    </tr>\n",
              "  </thead>\n",
              "  <tbody>\n",
              "    <tr>\n",
              "      <th>0</th>\n",
              "      <td>553446649</td>\n",
              "      <td>122525.19</td>\n",
              "    </tr>\n",
              "    <tr>\n",
              "      <th>1</th>\n",
              "      <td>566213018</td>\n",
              "      <td>119393.24</td>\n",
              "    </tr>\n",
              "    <tr>\n",
              "      <th>2</th>\n",
              "      <td>518514888</td>\n",
              "      <td>114484.63</td>\n",
              "    </tr>\n",
              "    <tr>\n",
              "      <th>3</th>\n",
              "      <td>628167977</td>\n",
              "      <td>113917.23</td>\n",
              "    </tr>\n",
              "    <tr>\n",
              "      <th>4</th>\n",
              "      <td>522016074</td>\n",
              "      <td>103291.35</td>\n",
              "    </tr>\n",
              "    <tr>\n",
              "      <th>5</th>\n",
              "      <td>548782814</td>\n",
              "      <td>100853.54</td>\n",
              "    </tr>\n",
              "    <tr>\n",
              "      <th>6</th>\n",
              "      <td>635021608</td>\n",
              "      <td>98535.34</td>\n",
              "    </tr>\n",
              "    <tr>\n",
              "      <th>7</th>\n",
              "      <td>555546931</td>\n",
              "      <td>97364.51</td>\n",
              "    </tr>\n",
              "    <tr>\n",
              "      <th>8</th>\n",
              "      <td>629426279</td>\n",
              "      <td>91844.44</td>\n",
              "    </tr>\n",
              "    <tr>\n",
              "      <th>9</th>\n",
              "      <td>627964145</td>\n",
              "      <td>81366.71</td>\n",
              "    </tr>\n",
              "  </tbody>\n",
              "</table>\n",
              "</div>"
            ],
            "text/plain": [
              "     user_id  total_spending\n",
              "0  553446649       122525.19\n",
              "1  566213018       119393.24\n",
              "2  518514888       114484.63\n",
              "3  628167977       113917.23\n",
              "4  522016074       103291.35\n",
              "5  548782814       100853.54\n",
              "6  635021608        98535.34\n",
              "7  555546931        97364.51\n",
              "8  629426279        91844.44\n",
              "9  627964145        81366.71"
            ]
          },
          "metadata": {
            "tags": []
          },
          "execution_count": 4
        }
      ]
    },
    {
      "cell_type": "markdown",
      "metadata": {
        "id": "YsUbMjZbl3wD"
      },
      "source": [
        "Results: our Top consumer identified as user_id: '553446649' spent around $122,525.19 on the webpage, which is way more lower than in February. This leads to a better understanding of consumers' behaviour that due the pandemic consumers had shifted their values, and cutting down unneed purchases to essentials."
      ]
    },
    {
      "cell_type": "markdown",
      "metadata": {
        "id": "4PeBEOrPpQ0M"
      },
      "source": [
        "###Now, let’s check the average of all users’ spendings for the month of April."
      ]
    },
    {
      "cell_type": "code",
      "metadata": {
        "id": "idiirFNalW6Z",
        "outputId": "3e39f568-e968-45a6-fca7-b4c9cdcd483c",
        "colab": {
          "base_uri": "https://localhost:8080/",
          "height": 80
        }
      },
      "source": [
        "%%bigquery --project ba775-team-4b\n",
        "SELECT ROUND(AVG(price), 2) as avg_spending_of_all_users\n",
        "FROM `ba775-team-4b.4b_dataset.ecommerce_april_2020`\n",
        "WHERE event_type = 'purchase'"
      ],
      "execution_count": null,
      "outputs": [
        {
          "output_type": "execute_result",
          "data": {
            "text/html": [
              "<div>\n",
              "<style scoped>\n",
              "    .dataframe tbody tr th:only-of-type {\n",
              "        vertical-align: middle;\n",
              "    }\n",
              "\n",
              "    .dataframe tbody tr th {\n",
              "        vertical-align: top;\n",
              "    }\n",
              "\n",
              "    .dataframe thead th {\n",
              "        text-align: right;\n",
              "    }\n",
              "</style>\n",
              "<table border=\"1\" class=\"dataframe\">\n",
              "  <thead>\n",
              "    <tr style=\"text-align: right;\">\n",
              "      <th></th>\n",
              "      <th>avg_spending_of_all_users</th>\n",
              "    </tr>\n",
              "  </thead>\n",
              "  <tbody>\n",
              "    <tr>\n",
              "      <th>0</th>\n",
              "      <td>252.93</td>\n",
              "    </tr>\n",
              "  </tbody>\n",
              "</table>\n",
              "</div>"
            ],
            "text/plain": [
              "   avg_spending_of_all_users\n",
              "0                     252.93"
            ]
          },
          "metadata": {
            "tags": []
          },
          "execution_count": 9
        }
      ]
    },
    {
      "cell_type": "markdown",
      "metadata": {
        "id": "xg9copp_mJ-V"
      },
      "source": [
        "Result: As we expected, the average of users’ spendings also decreased during pandemic. Average for April is `$252.93`, while for Feb was `$317.57`."
      ]
    },
    {
      "cell_type": "markdown",
      "metadata": {
        "id": "R3PXehiNpZPV"
      },
      "source": [
        "###After identifying the highest consumer as user_id: '553446649', we want to compare their spending with the average of all users’ spendings for the month of April."
      ]
    },
    {
      "cell_type": "code",
      "metadata": {
        "id": "-F0FX_xzl_5v",
        "outputId": "a62ef907-659e-44b4-fe1d-0e5153cd71cb",
        "colab": {
          "base_uri": "https://localhost:8080/",
          "height": 80
        }
      },
      "source": [
        "%%bigquery --project ba775-team-4b\n",
        "SELECT user_id AS USER_ID, ROUND(SUM(price)) AS TOTAL_SPENDING,COUNT(user_session) AS TOTA_SESSIONS,  \n",
        "(\n",
        "SELECT round(AVG(price), 2) as avg_spending\n",
        "FROM `ba775-team-4b.4b_dataset.ecommerce_april_2020`\n",
        "WHERE event_type = 'purchase'\n",
        ") as AVG_SPENDING_OF_ALL_USERS\n",
        " \n",
        "  FROM `ba775-team-4b.4b_dataset.ecommerce_april_2020`\n",
        "  WHERE user_id = 553446649 and event_type = 'purchase'\n",
        "  GROUP BY user_id"
      ],
      "execution_count": null,
      "outputs": [
        {
          "output_type": "execute_result",
          "data": {
            "text/html": [
              "<div>\n",
              "<style scoped>\n",
              "    .dataframe tbody tr th:only-of-type {\n",
              "        vertical-align: middle;\n",
              "    }\n",
              "\n",
              "    .dataframe tbody tr th {\n",
              "        vertical-align: top;\n",
              "    }\n",
              "\n",
              "    .dataframe thead th {\n",
              "        text-align: right;\n",
              "    }\n",
              "</style>\n",
              "<table border=\"1\" class=\"dataframe\">\n",
              "  <thead>\n",
              "    <tr style=\"text-align: right;\">\n",
              "      <th></th>\n",
              "      <th>USER_ID</th>\n",
              "      <th>TOTAL_SPENDING</th>\n",
              "      <th>TOTA_SESSIONS</th>\n",
              "      <th>AVG_SPENDING_OF_ALL_USERS</th>\n",
              "    </tr>\n",
              "  </thead>\n",
              "  <tbody>\n",
              "    <tr>\n",
              "      <th>0</th>\n",
              "      <td>553446649</td>\n",
              "      <td>122525.0</td>\n",
              "      <td>179</td>\n",
              "      <td>252.93</td>\n",
              "    </tr>\n",
              "  </tbody>\n",
              "</table>\n",
              "</div>"
            ],
            "text/plain": [
              "     USER_ID  TOTAL_SPENDING  TOTA_SESSIONS  AVG_SPENDING_OF_ALL_USERS\n",
              "0  553446649        122525.0            179                     252.93"
            ]
          },
          "metadata": {
            "tags": []
          },
          "execution_count": 4
        }
      ]
    },
    {
      "cell_type": "markdown",
      "metadata": {
        "id": "oE3lY4bLmXCu"
      },
      "source": [
        "This query shows the top buyer who have spend the most in this ecommerce website, and the average of all users' spendings"
      ]
    },
    {
      "cell_type": "markdown",
      "metadata": {
        "id": "CTO5et_jpjHZ"
      },
      "source": [
        "##Let's check deeper the insights by combining both datasets!"
      ]
    },
    {
      "cell_type": "markdown",
      "metadata": {
        "id": "M3Tfqj5VpjTw"
      },
      "source": [
        "###We also want to know how many times they shop on this website in February and April."
      ]
    },
    {
      "cell_type": "code",
      "metadata": {
        "id": "4rXB67hGmQT3",
        "outputId": "b2df5e36-8e55-4016-f496-6d12ae38af2e",
        "colab": {
          "base_uri": "https://localhost:8080/",
          "height": 362
        }
      },
      "source": [
        "%%bigquery --project ba775-team-4b\n",
        "SELECT \n",
        "user_id,\n",
        "COUNT(user_id) AS returning\n",
        "FROM\n",
        "(\n",
        "SELECT user_id, event_type\n",
        "FROM `ba775-team-4b.4b_dataset.ecommerce_feb_2020` AS FEB\n",
        "UNION ALL\n",
        "SELECT user_id, event_type\n",
        "FROM `ba775-team-4b.4b_dataset.ecommerce_april_2020` AS APR\n",
        ")\n",
        "WHERE event_type = 'purchase'\n",
        "GROUP BY user_id\n",
        "HAVING COUNT(user_id) > 1\n",
        "ORDER BY returning DESC\n",
        "LIMIT 10"
      ],
      "execution_count": null,
      "outputs": [
        {
          "output_type": "execute_result",
          "data": {
            "text/html": [
              "<div>\n",
              "<style scoped>\n",
              "    .dataframe tbody tr th:only-of-type {\n",
              "        vertical-align: middle;\n",
              "    }\n",
              "\n",
              "    .dataframe tbody tr th {\n",
              "        vertical-align: top;\n",
              "    }\n",
              "\n",
              "    .dataframe thead th {\n",
              "        text-align: right;\n",
              "    }\n",
              "</style>\n",
              "<table border=\"1\" class=\"dataframe\">\n",
              "  <thead>\n",
              "    <tr style=\"text-align: right;\">\n",
              "      <th></th>\n",
              "      <th>user_id</th>\n",
              "      <th>returning</th>\n",
              "    </tr>\n",
              "  </thead>\n",
              "  <tbody>\n",
              "    <tr>\n",
              "      <th>0</th>\n",
              "      <td>609817194</td>\n",
              "      <td>573</td>\n",
              "    </tr>\n",
              "    <tr>\n",
              "      <th>1</th>\n",
              "      <td>598224683</td>\n",
              "      <td>525</td>\n",
              "    </tr>\n",
              "    <tr>\n",
              "      <th>2</th>\n",
              "      <td>582826305</td>\n",
              "      <td>516</td>\n",
              "    </tr>\n",
              "    <tr>\n",
              "      <th>3</th>\n",
              "      <td>568782581</td>\n",
              "      <td>504</td>\n",
              "    </tr>\n",
              "    <tr>\n",
              "      <th>4</th>\n",
              "      <td>628167977</td>\n",
              "      <td>457</td>\n",
              "    </tr>\n",
              "    <tr>\n",
              "      <th>5</th>\n",
              "      <td>613954635</td>\n",
              "      <td>428</td>\n",
              "    </tr>\n",
              "    <tr>\n",
              "      <th>6</th>\n",
              "      <td>549109608</td>\n",
              "      <td>344</td>\n",
              "    </tr>\n",
              "    <tr>\n",
              "      <th>7</th>\n",
              "      <td>563599039</td>\n",
              "      <td>327</td>\n",
              "    </tr>\n",
              "    <tr>\n",
              "      <th>8</th>\n",
              "      <td>608152627</td>\n",
              "      <td>327</td>\n",
              "    </tr>\n",
              "    <tr>\n",
              "      <th>9</th>\n",
              "      <td>541733144</td>\n",
              "      <td>317</td>\n",
              "    </tr>\n",
              "  </tbody>\n",
              "</table>\n",
              "</div>"
            ],
            "text/plain": [
              "     user_id  returning\n",
              "0  609817194        573\n",
              "1  598224683        525\n",
              "2  582826305        516\n",
              "3  568782581        504\n",
              "4  628167977        457\n",
              "5  613954635        428\n",
              "6  549109608        344\n",
              "7  563599039        327\n",
              "8  608152627        327\n",
              "9  541733144        317"
            ]
          },
          "metadata": {
            "tags": []
          },
          "execution_count": 10
        }
      ]
    },
    {
      "cell_type": "markdown",
      "metadata": {
        "id": "BT4bjJ33mmz5"
      },
      "source": [
        "Results: Our top consumer identified as user_id: ‘609817194’ returned back to the website 573 times. Surprisingly, our top consumer from the month of February and April are not in the Top 10."
      ]
    },
    {
      "cell_type": "markdown",
      "metadata": {
        "id": "6B0qxuL3pu5L"
      },
      "source": [
        "###Now we want to see the impact of COVID-19 by finding the percentage change in sales for popular categories in February"
      ]
    },
    {
      "cell_type": "code",
      "metadata": {
        "id": "sQYF5PNQmi6v",
        "outputId": "fb369c32-9feb-4feb-c85d-4d9e442c505c",
        "colab": {
          "base_uri": "https://localhost:8080/",
          "height": 362
        }
      },
      "source": [
        "%%bigquery --project ba775-team-4b\n",
        "SELECT \n",
        "category_code,\n",
        "(total_sales_apr - total_sales_feb)/total_sales_feb AS percent_change\n",
        "FROM\n",
        "(\n",
        "SELECT *\n",
        "FROM \n",
        "    (SELECT \n",
        "category_code,\n",
        "SUM(price) AS total_sales_apr\n",
        "FROM `ba775-team-4b.4b_dataset.ecommerce_april_2020`\n",
        "WHERE category_code IS NOT NULL AND event_type = 'purchase'\n",
        "GROUP BY category_code\n",
        "ORDER BY  total_sales_apr DESC\n",
        ") AS apr\n",
        "    \n",
        "INNER JOIN \n",
        "    \n",
        "    (SELECT \n",
        "category_code AS cat,\n",
        "SUM(price) AS total_sales_feb,\n",
        "FROM `ba775-team-4b.4b_dataset.ecommerce_feb_2020` \n",
        "WHERE category_code IS NOT NULL and event_type = 'purchase'\n",
        "GROUP BY category_code\n",
        "ORDER BY total_sales_feb DESC) AS feb\n",
        "    \n",
        "ON apr.category_code = feb.cat\n",
        ")\n",
        "ORDER BY total_sales_feb DESC\n",
        "LIMIT 10\n"
      ],
      "execution_count": null,
      "outputs": [
        {
          "output_type": "execute_result",
          "data": {
            "text/html": [
              "<div>\n",
              "<style scoped>\n",
              "    .dataframe tbody tr th:only-of-type {\n",
              "        vertical-align: middle;\n",
              "    }\n",
              "\n",
              "    .dataframe tbody tr th {\n",
              "        vertical-align: top;\n",
              "    }\n",
              "\n",
              "    .dataframe thead th {\n",
              "        text-align: right;\n",
              "    }\n",
              "</style>\n",
              "<table border=\"1\" class=\"dataframe\">\n",
              "  <thead>\n",
              "    <tr style=\"text-align: right;\">\n",
              "      <th></th>\n",
              "      <th>category_code</th>\n",
              "      <th>percent_change</th>\n",
              "    </tr>\n",
              "  </thead>\n",
              "  <tbody>\n",
              "    <tr>\n",
              "      <th>0</th>\n",
              "      <td>construction.tools.light</td>\n",
              "      <td>-0.494748</td>\n",
              "    </tr>\n",
              "    <tr>\n",
              "      <th>1</th>\n",
              "      <td>electronics.audio.headphone</td>\n",
              "      <td>0.489696</td>\n",
              "    </tr>\n",
              "    <tr>\n",
              "      <th>2</th>\n",
              "      <td>appliances.personal.massager</td>\n",
              "      <td>0.052344</td>\n",
              "    </tr>\n",
              "    <tr>\n",
              "      <th>3</th>\n",
              "      <td>electronics.clocks</td>\n",
              "      <td>-0.632624</td>\n",
              "    </tr>\n",
              "    <tr>\n",
              "      <th>4</th>\n",
              "      <td>sport.bicycle</td>\n",
              "      <td>-0.625624</td>\n",
              "    </tr>\n",
              "    <tr>\n",
              "      <th>5</th>\n",
              "      <td>appliances.kitchen.refrigerators</td>\n",
              "      <td>0.527003</td>\n",
              "    </tr>\n",
              "    <tr>\n",
              "      <th>6</th>\n",
              "      <td>appliances.kitchen.washer</td>\n",
              "      <td>-0.127324</td>\n",
              "    </tr>\n",
              "    <tr>\n",
              "      <th>7</th>\n",
              "      <td>appliances.kitchen.coffee_grinder</td>\n",
              "      <td>-0.789130</td>\n",
              "    </tr>\n",
              "    <tr>\n",
              "      <th>8</th>\n",
              "      <td>apparel.shoes</td>\n",
              "      <td>0.062457</td>\n",
              "    </tr>\n",
              "    <tr>\n",
              "      <th>9</th>\n",
              "      <td>computers.peripherals.printer</td>\n",
              "      <td>-0.665558</td>\n",
              "    </tr>\n",
              "  </tbody>\n",
              "</table>\n",
              "</div>"
            ],
            "text/plain": [
              "                       category_code  percent_change\n",
              "0           construction.tools.light       -0.494748\n",
              "1        electronics.audio.headphone        0.489696\n",
              "2       appliances.personal.massager        0.052344\n",
              "3                 electronics.clocks       -0.632624\n",
              "4                      sport.bicycle       -0.625624\n",
              "5   appliances.kitchen.refrigerators        0.527003\n",
              "6          appliances.kitchen.washer       -0.127324\n",
              "7  appliances.kitchen.coffee_grinder       -0.789130\n",
              "8                      apparel.shoes        0.062457\n",
              "9      computers.peripherals.printer       -0.665558"
            ]
          },
          "metadata": {
            "tags": []
          },
          "execution_count": 11
        }
      ]
    },
    {
      "cell_type": "markdown",
      "metadata": {
        "id": "FqjcxjHMmywC"
      },
      "source": [
        "Results: Most popular categories have lower sales in April than in February. But headphone, massager and refrigerators categories have higher sales in April. It might casued by working from home.\n"
      ]
    },
    {
      "cell_type": "markdown",
      "metadata": {
        "id": "khOiRGm0NR2s"
      },
      "source": [
        "# Are views correlated with the number of speding in each month?"
      ]
    },
    {
      "cell_type": "code",
      "metadata": {
        "id": "_wMeCOqqNycb",
        "outputId": "56a78cf2-609a-4bdd-8cfa-9fee56a9f603",
        "colab": {
          "base_uri": "https://localhost:8080/",
          "height": 80
        }
      },
      "source": [
        "%%bigquery --project ba775-team-4b\n",
        "select count(event_type) as feb_visits, \n",
        "\n",
        "(select round(sum(price),2) as profit_from_feb from `ba775-team-4b.4b_dataset.ecommerce_feb_2020` where event_type = 'purchase')feb_profit,\n",
        "\n",
        "(select count(event_type) as total_visits_april FROM `ba775-team-4b.4b_dataset.ecommerce_april_2020`\n",
        "where event_type = 'view'\n",
        "group by event_type) april_visits,\n",
        "\n",
        "(select round(sum(price),2) as profit_from_april from `ba775-team-4b.4b_dataset.ecommerce_april_2020` where event_type = 'purchase') april_profit\n",
        "\n",
        " FROM `ba775-team-4b.4b_dataset.ecommerce_feb_2020`\n",
        "where event_type = 'view'\n",
        "group by event_type"
      ],
      "execution_count": null,
      "outputs": [
        {
          "output_type": "execute_result",
          "data": {
            "text/html": [
              "<div>\n",
              "<style scoped>\n",
              "    .dataframe tbody tr th:only-of-type {\n",
              "        vertical-align: middle;\n",
              "    }\n",
              "\n",
              "    .dataframe tbody tr th {\n",
              "        vertical-align: top;\n",
              "    }\n",
              "\n",
              "    .dataframe thead th {\n",
              "        text-align: right;\n",
              "    }\n",
              "</style>\n",
              "<table border=\"1\" class=\"dataframe\">\n",
              "  <thead>\n",
              "    <tr style=\"text-align: right;\">\n",
              "      <th></th>\n",
              "      <th>feb_visits</th>\n",
              "      <th>feb_profit</th>\n",
              "      <th>april_visits</th>\n",
              "      <th>april_profit</th>\n",
              "    </tr>\n",
              "  </thead>\n",
              "  <tbody>\n",
              "    <tr>\n",
              "      <th>0</th>\n",
              "      <td>51232669</td>\n",
              "      <td>3.811789e+08</td>\n",
              "      <td>62353909</td>\n",
              "      <td>2.445258e+08</td>\n",
              "    </tr>\n",
              "  </tbody>\n",
              "</table>\n",
              "</div>"
            ],
            "text/plain": [
              "   feb_visits    feb_profit  april_visits  april_profit\n",
              "0    51232669  3.811789e+08      62353909  2.445258e+08"
            ]
          },
          "metadata": {
            "tags": []
          },
          "execution_count": 6
        }
      ]
    },
    {
      "cell_type": "markdown",
      "metadata": {
        "id": "tlrvdnbMN77u"
      },
      "source": [
        "There is a negative correlation between the number of views and consumer's spending on each month.\n",
        "\n",
        "Results: April visits times increased by 9.8% since February, but decreased sales by 21.84%."
      ]
    },
    {
      "cell_type": "markdown",
      "metadata": {
        "id": "CVPwEmcqp2LW"
      },
      "source": [
        "###Also, we wants to investigate how well samsung's top selling categories in February performed in April"
      ]
    },
    {
      "cell_type": "code",
      "metadata": {
        "id": "2hM3efS4muk5",
        "outputId": "ade55e33-4945-4044-a023-a3cdb9ffbc04",
        "colab": {
          "base_uri": "https://localhost:8080/",
          "height": 539
        }
      },
      "source": [
        "%%bigquery --project ba775-team-4b\n",
        "SELECT \n",
        "A.*,FEB_total_sales,round(APR_total_sales-FEB_total_sales,2) FEB_APR_SalesDifferences, \n",
        "round(((APR_total_sales-FEB_total_sales)/FEB_total_sales),2)  FEB_APR_SalesChanges_percentage\n",
        "FROM\n",
        "(SELECT A.*,B.APR_total_sales\n",
        "FROM \n",
        "(SELECT A.brand,A.category_code,count(A.brand) AS count_APR_brand_sales, count_FEB_brand_sales\n",
        "FROM `ba775-team-4b.4b_dataset.ecommerce_april_2020`A\n",
        "\n",
        "LEFT JOIN \n",
        "(SELECT brand,category_code,count(brand) AS count_FEB_brand_sales\n",
        "FROM `ba775-team-4b.4b_dataset.ecommerce_feb_2020`\n",
        "WHERE event_type = 'purchase' and brand = 'samsung' AND category_code IS NOT NULL \n",
        "GROUP BY category_code,brand\n",
        ") B\n",
        "USING(category_code)\n",
        "\n",
        "WHERE event_type = 'purchase' and A.brand = 'samsung' AND category_code IS NOT NULL\n",
        "GROUP BY category_code,brand,count_FEB_brand_sales \n",
        "ORDER BY count_APR_brand_sales DESC\n",
        "\n",
        "limit 15)\n",
        "A\n",
        "LEFT JOIN\n",
        "(SELECT category_code,round(sum(price),2) as APR_total_sales \n",
        "FROM `ba775-team-4b.4b_dataset.ecommerce_april_2020`\n",
        "WHERE brand = 'samsung' AND event_type = 'purchase' AND category_code IS NOT NULL\n",
        "GROUP BY category_code\n",
        ") B\n",
        "USING(category_code)\n",
        ") A\n",
        "\n",
        "LEFT JOIN \n",
        "(\n",
        "SELECT category_code,round(sum(price),2) as FEB_total_sales \n",
        "FROM `ba775-team-4b.4b_dataset.ecommerce_feb_2020`\n",
        "WHERE brand = 'samsung' AND event_type = 'purchase' AND category_code IS NOT NULL\n",
        "GROUP BY category_code\n",
        ") B\n",
        "USING(category_code)\n"
      ],
      "execution_count": null,
      "outputs": [
        {
          "output_type": "execute_result",
          "data": {
            "text/html": [
              "<div>\n",
              "<style scoped>\n",
              "    .dataframe tbody tr th:only-of-type {\n",
              "        vertical-align: middle;\n",
              "    }\n",
              "\n",
              "    .dataframe tbody tr th {\n",
              "        vertical-align: top;\n",
              "    }\n",
              "\n",
              "    .dataframe thead th {\n",
              "        text-align: right;\n",
              "    }\n",
              "</style>\n",
              "<table border=\"1\" class=\"dataframe\">\n",
              "  <thead>\n",
              "    <tr style=\"text-align: right;\">\n",
              "      <th></th>\n",
              "      <th>brand</th>\n",
              "      <th>category_code</th>\n",
              "      <th>count_APR_brand_sales</th>\n",
              "      <th>count_FEB_brand_sales</th>\n",
              "      <th>APR_total_sales</th>\n",
              "      <th>FEB_total_sales</th>\n",
              "      <th>FEB_APR_SalesDifferences</th>\n",
              "      <th>FEB_APR_SalesChanges_percentage</th>\n",
              "    </tr>\n",
              "  </thead>\n",
              "  <tbody>\n",
              "    <tr>\n",
              "      <th>0</th>\n",
              "      <td>samsung</td>\n",
              "      <td>construction.tools.light</td>\n",
              "      <td>184103</td>\n",
              "      <td>232703</td>\n",
              "      <td>45963013.54</td>\n",
              "      <td>62945179.08</td>\n",
              "      <td>-16982165.54</td>\n",
              "      <td>-26.98</td>\n",
              "    </tr>\n",
              "    <tr>\n",
              "      <th>1</th>\n",
              "      <td>samsung</td>\n",
              "      <td>appliances.personal.massager</td>\n",
              "      <td>12226</td>\n",
              "      <td>10997</td>\n",
              "      <td>5950085.11</td>\n",
              "      <td>5670117.86</td>\n",
              "      <td>279967.25</td>\n",
              "      <td>4.94</td>\n",
              "    </tr>\n",
              "    <tr>\n",
              "      <th>2</th>\n",
              "      <td>samsung</td>\n",
              "      <td>appliances.environment.vacuum</td>\n",
              "      <td>6888</td>\n",
              "      <td>5961</td>\n",
              "      <td>658085.14</td>\n",
              "      <td>593468.30</td>\n",
              "      <td>64616.84</td>\n",
              "      <td>10.89</td>\n",
              "    </tr>\n",
              "    <tr>\n",
              "      <th>3</th>\n",
              "      <td>samsung</td>\n",
              "      <td>sport.bicycle</td>\n",
              "      <td>3610</td>\n",
              "      <td>6168</td>\n",
              "      <td>273569.66</td>\n",
              "      <td>583450.30</td>\n",
              "      <td>-309880.64</td>\n",
              "      <td>-53.11</td>\n",
              "    </tr>\n",
              "    <tr>\n",
              "      <th>4</th>\n",
              "      <td>samsung</td>\n",
              "      <td>appliances.kitchen.washer</td>\n",
              "      <td>3299</td>\n",
              "      <td>3752</td>\n",
              "      <td>1350346.76</td>\n",
              "      <td>1487822.83</td>\n",
              "      <td>-137476.07</td>\n",
              "      <td>-9.24</td>\n",
              "    </tr>\n",
              "    <tr>\n",
              "      <th>5</th>\n",
              "      <td>samsung</td>\n",
              "      <td>apparel.shoes.slipons</td>\n",
              "      <td>2857</td>\n",
              "      <td>4050</td>\n",
              "      <td>797139.25</td>\n",
              "      <td>832911.60</td>\n",
              "      <td>-35772.35</td>\n",
              "      <td>-4.29</td>\n",
              "    </tr>\n",
              "    <tr>\n",
              "      <th>6</th>\n",
              "      <td>samsung</td>\n",
              "      <td>electronics.clocks</td>\n",
              "      <td>1471</td>\n",
              "      <td>4564</td>\n",
              "      <td>376984.70</td>\n",
              "      <td>1117730.48</td>\n",
              "      <td>-740745.78</td>\n",
              "      <td>-66.27</td>\n",
              "    </tr>\n",
              "    <tr>\n",
              "      <th>7</th>\n",
              "      <td>samsung</td>\n",
              "      <td>construction.tools.welding</td>\n",
              "      <td>1276</td>\n",
              "      <td>463</td>\n",
              "      <td>32216.81</td>\n",
              "      <td>7241.87</td>\n",
              "      <td>24974.94</td>\n",
              "      <td>344.87</td>\n",
              "    </tr>\n",
              "    <tr>\n",
              "      <th>8</th>\n",
              "      <td>samsung</td>\n",
              "      <td>appliances.kitchen.refrigerators</td>\n",
              "      <td>1246</td>\n",
              "      <td>1064</td>\n",
              "      <td>822494.35</td>\n",
              "      <td>735077.60</td>\n",
              "      <td>87416.75</td>\n",
              "      <td>11.89</td>\n",
              "    </tr>\n",
              "    <tr>\n",
              "      <th>9</th>\n",
              "      <td>samsung</td>\n",
              "      <td>appliances.environment.air_conditioner</td>\n",
              "      <td>856</td>\n",
              "      <td>56</td>\n",
              "      <td>300774.71</td>\n",
              "      <td>26721.28</td>\n",
              "      <td>274053.43</td>\n",
              "      <td>1025.60</td>\n",
              "    </tr>\n",
              "    <tr>\n",
              "      <th>10</th>\n",
              "      <td>samsung</td>\n",
              "      <td>furniture.bedroom.blanket</td>\n",
              "      <td>786</td>\n",
              "      <td>685</td>\n",
              "      <td>94763.84</td>\n",
              "      <td>86302.14</td>\n",
              "      <td>8461.70</td>\n",
              "      <td>9.80</td>\n",
              "    </tr>\n",
              "    <tr>\n",
              "      <th>11</th>\n",
              "      <td>samsung</td>\n",
              "      <td>furniture.kitchen.chair</td>\n",
              "      <td>330</td>\n",
              "      <td>317</td>\n",
              "      <td>5581.67</td>\n",
              "      <td>6499.17</td>\n",
              "      <td>-917.50</td>\n",
              "      <td>-14.12</td>\n",
              "    </tr>\n",
              "    <tr>\n",
              "      <th>12</th>\n",
              "      <td>samsung</td>\n",
              "      <td>country_yard.cultivator</td>\n",
              "      <td>310</td>\n",
              "      <td>123</td>\n",
              "      <td>3122.16</td>\n",
              "      <td>884.72</td>\n",
              "      <td>2237.44</td>\n",
              "      <td>252.90</td>\n",
              "    </tr>\n",
              "    <tr>\n",
              "      <th>13</th>\n",
              "      <td>samsung</td>\n",
              "      <td>apparel.shoes</td>\n",
              "      <td>254</td>\n",
              "      <td>797</td>\n",
              "      <td>7047.59</td>\n",
              "      <td>29045.32</td>\n",
              "      <td>-21997.73</td>\n",
              "      <td>-75.74</td>\n",
              "    </tr>\n",
              "    <tr>\n",
              "      <th>14</th>\n",
              "      <td>samsung</td>\n",
              "      <td>appliances.kitchen.juicer</td>\n",
              "      <td>201</td>\n",
              "      <td>143</td>\n",
              "      <td>28526.09</td>\n",
              "      <td>18316.30</td>\n",
              "      <td>10209.79</td>\n",
              "      <td>55.74</td>\n",
              "    </tr>\n",
              "  </tbody>\n",
              "</table>\n",
              "</div>"
            ],
            "text/plain": [
              "      brand  ... FEB_APR_SalesChanges_percentage\n",
              "0   samsung  ...                          -26.98\n",
              "1   samsung  ...                            4.94\n",
              "2   samsung  ...                           10.89\n",
              "3   samsung  ...                          -53.11\n",
              "4   samsung  ...                           -9.24\n",
              "5   samsung  ...                           -4.29\n",
              "6   samsung  ...                          -66.27\n",
              "7   samsung  ...                          344.87\n",
              "8   samsung  ...                           11.89\n",
              "9   samsung  ...                         1025.60\n",
              "10  samsung  ...                            9.80\n",
              "11  samsung  ...                          -14.12\n",
              "12  samsung  ...                          252.90\n",
              "13  samsung  ...                          -75.74\n",
              "14  samsung  ...                           55.74\n",
              "\n",
              "[15 rows x 8 columns]"
            ]
          },
          "metadata": {
            "tags": []
          },
          "execution_count": 14
        }
      ]
    },
    {
      "cell_type": "markdown",
      "metadata": {
        "id": "Fk4VwDqCVNuz"
      },
      "source": [
        "Result: most of the February's top-selling categories for samsung increased a lot in April, especially for air conditioner category."
      ]
    },
    {
      "cell_type": "markdown",
      "metadata": {
        "id": "fS1EgHyuLg-5"
      },
      "source": [
        "# Number of products they purchased in different category.\n",
        "\n",
        "\n"
      ]
    },
    {
      "cell_type": "code",
      "metadata": {
        "id": "EoHzb7i-LaKF",
        "outputId": "cc942af5-0209-4f2a-8996-9bb142e82e74",
        "colab": {
          "base_uri": "https://localhost:8080/",
          "height": 443
        }
      },
      "source": [
        "%%bigquery --project ba775-team-4b\n",
        "SELECT user_id,num_of_accessories,num_of_apparel,num_of_appliances,num_of_auto,num_of_computers,num_of_construction,num_of_country_yard,num_of_electronics,num_of_furniture,num_of_kids,num_of_medicine,num_of_sport,num_of_stationery from\n",
        "(SELECT user_id, count(user_id) as num_of_accessories\n",
        "FROM `ba775-team-4b.4b_dataset.ecommerce_april_2020`\n",
        "where category_code like \"accessories%\" and event_type=\"purchase\"\n",
        "group by user_id) as accessories\n",
        "FULL OUTER JOIN\n",
        "(SELECT user_id, count(user_id) as num_of_apparel\n",
        "FROM `ba775-team-4b.4b_dataset.ecommerce_april_2020`\n",
        "where category_code like \"apparel%\" and event_type=\"purchase\"\n",
        "group by user_id) as apparel\n",
        "using(user_id)\n",
        "FULL OUTER JOIN\n",
        "(SELECT user_id, count(user_id) as num_of_appliances\n",
        "FROM `ba775-team-4b.4b_dataset.ecommerce_april_2020`\n",
        "where category_code like \"appliances%\" and event_type=\"purchase\"\n",
        "group by user_id) as appliances\n",
        "using(user_id)\n",
        "FULL OUTER JOIN\n",
        "(SELECT user_id, count(user_id) as num_of_auto\n",
        "FROM `ba775-team-4b.4b_dataset.ecommerce_april_2020`\n",
        "where category_code like \"auto%\" and event_type=\"purchase\"\n",
        "group by user_id) as auto\n",
        "using(user_id)\n",
        "FULL OUTER JOIN\n",
        "(SELECT user_id, count(user_id) as num_of_computers\n",
        "FROM `ba775-team-4b.4b_dataset.ecommerce_april_2020`\n",
        "where category_code like \"computers%\" and event_type=\"purchase\"\n",
        "group by user_id) as computers\n",
        "using(user_id)\n",
        "FULL OUTER JOIN\n",
        "(SELECT user_id, count(user_id) as num_of_construction\n",
        "FROM `ba775-team-4b.4b_dataset.ecommerce_april_2020`\n",
        "where category_code like \"construction%\" and event_type=\"purchase\"\n",
        "group by user_id) as construction\n",
        "using(user_id)\n",
        "FULL OUTER JOIN\n",
        "(SELECT user_id, count(user_id) as num_of_country_yard\n",
        "FROM `ba775-team-4b.4b_dataset.ecommerce_april_2020`\n",
        "where category_code like \"country_yard%\" and event_type=\"purchase\"\n",
        "group by user_id) as country_yard\n",
        "using(user_id)\n",
        "FULL OUTER JOIN\n",
        "(SELECT user_id, count(user_id) as num_of_electronics\n",
        "FROM `ba775-team-4b.4b_dataset.ecommerce_april_2020`\n",
        "where category_code like \"electronics%\" and event_type=\"purchase\"\n",
        "group by user_id) as electronics\n",
        "using(user_id)\n",
        "FULL OUTER JOIN\n",
        "(SELECT user_id, count(user_id) as num_of_furniture\n",
        "FROM `ba775-team-4b.4b_dataset.ecommerce_april_2020`\n",
        "where category_code like \"furniture%\" and event_type=\"purchase\"\n",
        "group by user_id) as furniture\n",
        "using(user_id)\n",
        "FULL OUTER JOIN\n",
        "(SELECT user_id, count(user_id) as num_of_kids\n",
        "FROM `ba775-team-4b.4b_dataset.ecommerce_april_2020`\n",
        "where category_code like \"kids%\" and event_type=\"purchase\"\n",
        "group by user_id) as kids\n",
        "using(user_id)\n",
        "FULL OUTER JOIN\n",
        "(SELECT user_id, count(user_id) as num_of_medicine\n",
        "FROM `ba775-team-4b.4b_dataset.ecommerce_april_2020`\n",
        "where category_code like \"medicine%\" and event_type=\"purchase\"\n",
        "group by user_id) as medicine\n",
        "using(user_id)\n",
        "FULL OUTER JOIN\n",
        "(SELECT user_id, count(user_id) as num_of_sport\n",
        "FROM `ba775-team-4b.4b_dataset.ecommerce_april_2020`\n",
        "where category_code like \"sport%\" and event_type=\"purchase\"\n",
        "group by user_id) as sport\n",
        "using(user_id)\n",
        "FULL OUTER JOIN\n",
        "(SELECT user_id, count(user_id) as num_of_stationery\n",
        "FROM `ba775-team-4b.4b_dataset.ecommerce_april_2020`\n",
        "where category_code like \"stationery%\" and event_type=\"purchase\"\n",
        "group by user_id) as stationery\n",
        "using(user_id)\n",
        "order by num_of_computers desc"
      ],
      "execution_count": null,
      "outputs": [
        {
          "output_type": "execute_result",
          "data": {
            "text/html": [
              "<div>\n",
              "<style scoped>\n",
              "    .dataframe tbody tr th:only-of-type {\n",
              "        vertical-align: middle;\n",
              "    }\n",
              "\n",
              "    .dataframe tbody tr th {\n",
              "        vertical-align: top;\n",
              "    }\n",
              "\n",
              "    .dataframe thead th {\n",
              "        text-align: right;\n",
              "    }\n",
              "</style>\n",
              "<table border=\"1\" class=\"dataframe\">\n",
              "  <thead>\n",
              "    <tr style=\"text-align: right;\">\n",
              "      <th></th>\n",
              "      <th>user_id</th>\n",
              "      <th>num_of_accessories</th>\n",
              "      <th>num_of_apparel</th>\n",
              "      <th>num_of_appliances</th>\n",
              "      <th>num_of_auto</th>\n",
              "      <th>num_of_computers</th>\n",
              "      <th>num_of_construction</th>\n",
              "      <th>num_of_country_yard</th>\n",
              "      <th>num_of_electronics</th>\n",
              "      <th>num_of_furniture</th>\n",
              "      <th>num_of_kids</th>\n",
              "      <th>num_of_medicine</th>\n",
              "      <th>num_of_sport</th>\n",
              "      <th>num_of_stationery</th>\n",
              "    </tr>\n",
              "  </thead>\n",
              "  <tbody>\n",
              "    <tr>\n",
              "      <th>0</th>\n",
              "      <td>616664909</td>\n",
              "      <td>NaN</td>\n",
              "      <td>2.0</td>\n",
              "      <td>NaN</td>\n",
              "      <td>3.0</td>\n",
              "      <td>76.0</td>\n",
              "      <td>3.0</td>\n",
              "      <td>NaN</td>\n",
              "      <td>NaN</td>\n",
              "      <td>10.0</td>\n",
              "      <td>NaN</td>\n",
              "      <td>NaN</td>\n",
              "      <td>NaN</td>\n",
              "      <td>NaN</td>\n",
              "    </tr>\n",
              "    <tr>\n",
              "      <th>1</th>\n",
              "      <td>619599757</td>\n",
              "      <td>NaN</td>\n",
              "      <td>12.0</td>\n",
              "      <td>4.0</td>\n",
              "      <td>NaN</td>\n",
              "      <td>39.0</td>\n",
              "      <td>NaN</td>\n",
              "      <td>NaN</td>\n",
              "      <td>NaN</td>\n",
              "      <td>NaN</td>\n",
              "      <td>NaN</td>\n",
              "      <td>NaN</td>\n",
              "      <td>NaN</td>\n",
              "      <td>NaN</td>\n",
              "    </tr>\n",
              "    <tr>\n",
              "      <th>2</th>\n",
              "      <td>580768334</td>\n",
              "      <td>NaN</td>\n",
              "      <td>1.0</td>\n",
              "      <td>1.0</td>\n",
              "      <td>3.0</td>\n",
              "      <td>35.0</td>\n",
              "      <td>6.0</td>\n",
              "      <td>NaN</td>\n",
              "      <td>1.0</td>\n",
              "      <td>3.0</td>\n",
              "      <td>NaN</td>\n",
              "      <td>2.0</td>\n",
              "      <td>1.0</td>\n",
              "      <td>NaN</td>\n",
              "    </tr>\n",
              "    <tr>\n",
              "      <th>3</th>\n",
              "      <td>621730545</td>\n",
              "      <td>NaN</td>\n",
              "      <td>NaN</td>\n",
              "      <td>12.0</td>\n",
              "      <td>NaN</td>\n",
              "      <td>34.0</td>\n",
              "      <td>5.0</td>\n",
              "      <td>NaN</td>\n",
              "      <td>32.0</td>\n",
              "      <td>NaN</td>\n",
              "      <td>NaN</td>\n",
              "      <td>NaN</td>\n",
              "      <td>12.0</td>\n",
              "      <td>NaN</td>\n",
              "    </tr>\n",
              "    <tr>\n",
              "      <th>4</th>\n",
              "      <td>635777499</td>\n",
              "      <td>NaN</td>\n",
              "      <td>NaN</td>\n",
              "      <td>NaN</td>\n",
              "      <td>NaN</td>\n",
              "      <td>32.0</td>\n",
              "      <td>NaN</td>\n",
              "      <td>NaN</td>\n",
              "      <td>NaN</td>\n",
              "      <td>NaN</td>\n",
              "      <td>NaN</td>\n",
              "      <td>NaN</td>\n",
              "      <td>NaN</td>\n",
              "      <td>NaN</td>\n",
              "    </tr>\n",
              "    <tr>\n",
              "      <th>...</th>\n",
              "      <td>...</td>\n",
              "      <td>...</td>\n",
              "      <td>...</td>\n",
              "      <td>...</td>\n",
              "      <td>...</td>\n",
              "      <td>...</td>\n",
              "      <td>...</td>\n",
              "      <td>...</td>\n",
              "      <td>...</td>\n",
              "      <td>...</td>\n",
              "      <td>...</td>\n",
              "      <td>...</td>\n",
              "      <td>...</td>\n",
              "      <td>...</td>\n",
              "    </tr>\n",
              "    <tr>\n",
              "      <th>452065</th>\n",
              "      <td>594675773</td>\n",
              "      <td>NaN</td>\n",
              "      <td>NaN</td>\n",
              "      <td>NaN</td>\n",
              "      <td>NaN</td>\n",
              "      <td>NaN</td>\n",
              "      <td>NaN</td>\n",
              "      <td>NaN</td>\n",
              "      <td>NaN</td>\n",
              "      <td>NaN</td>\n",
              "      <td>NaN</td>\n",
              "      <td>NaN</td>\n",
              "      <td>1.0</td>\n",
              "      <td>NaN</td>\n",
              "    </tr>\n",
              "    <tr>\n",
              "      <th>452066</th>\n",
              "      <td>602710306</td>\n",
              "      <td>NaN</td>\n",
              "      <td>NaN</td>\n",
              "      <td>NaN</td>\n",
              "      <td>NaN</td>\n",
              "      <td>NaN</td>\n",
              "      <td>NaN</td>\n",
              "      <td>NaN</td>\n",
              "      <td>NaN</td>\n",
              "      <td>NaN</td>\n",
              "      <td>NaN</td>\n",
              "      <td>NaN</td>\n",
              "      <td>1.0</td>\n",
              "      <td>NaN</td>\n",
              "    </tr>\n",
              "    <tr>\n",
              "      <th>452067</th>\n",
              "      <td>605062462</td>\n",
              "      <td>NaN</td>\n",
              "      <td>NaN</td>\n",
              "      <td>NaN</td>\n",
              "      <td>NaN</td>\n",
              "      <td>NaN</td>\n",
              "      <td>NaN</td>\n",
              "      <td>NaN</td>\n",
              "      <td>NaN</td>\n",
              "      <td>NaN</td>\n",
              "      <td>NaN</td>\n",
              "      <td>NaN</td>\n",
              "      <td>1.0</td>\n",
              "      <td>NaN</td>\n",
              "    </tr>\n",
              "    <tr>\n",
              "      <th>452068</th>\n",
              "      <td>524778346</td>\n",
              "      <td>NaN</td>\n",
              "      <td>NaN</td>\n",
              "      <td>NaN</td>\n",
              "      <td>NaN</td>\n",
              "      <td>NaN</td>\n",
              "      <td>NaN</td>\n",
              "      <td>NaN</td>\n",
              "      <td>NaN</td>\n",
              "      <td>NaN</td>\n",
              "      <td>NaN</td>\n",
              "      <td>NaN</td>\n",
              "      <td>1.0</td>\n",
              "      <td>NaN</td>\n",
              "    </tr>\n",
              "    <tr>\n",
              "      <th>452069</th>\n",
              "      <td>578039994</td>\n",
              "      <td>NaN</td>\n",
              "      <td>NaN</td>\n",
              "      <td>NaN</td>\n",
              "      <td>NaN</td>\n",
              "      <td>NaN</td>\n",
              "      <td>NaN</td>\n",
              "      <td>NaN</td>\n",
              "      <td>NaN</td>\n",
              "      <td>NaN</td>\n",
              "      <td>NaN</td>\n",
              "      <td>NaN</td>\n",
              "      <td>1.0</td>\n",
              "      <td>NaN</td>\n",
              "    </tr>\n",
              "  </tbody>\n",
              "</table>\n",
              "<p>452070 rows × 14 columns</p>\n",
              "</div>"
            ],
            "text/plain": [
              "          user_id  num_of_accessories  ...  num_of_sport  num_of_stationery\n",
              "0       616664909                 NaN  ...           NaN                NaN\n",
              "1       619599757                 NaN  ...           NaN                NaN\n",
              "2       580768334                 NaN  ...           1.0                NaN\n",
              "3       621730545                 NaN  ...          12.0                NaN\n",
              "4       635777499                 NaN  ...           NaN                NaN\n",
              "...           ...                 ...  ...           ...                ...\n",
              "452065  594675773                 NaN  ...           1.0                NaN\n",
              "452066  602710306                 NaN  ...           1.0                NaN\n",
              "452067  605062462                 NaN  ...           1.0                NaN\n",
              "452068  524778346                 NaN  ...           1.0                NaN\n",
              "452069  578039994                 NaN  ...           1.0                NaN\n",
              "\n",
              "[452070 rows x 14 columns]"
            ]
          },
          "metadata": {
            "tags": []
          },
          "execution_count": 3
        }
      ]
    },
    {
      "cell_type": "markdown",
      "metadata": {
        "id": "xwyY6ctiZ21N"
      },
      "source": [
        "# Abandon Rate"
      ]
    },
    {
      "cell_type": "code",
      "metadata": {
        "id": "av6USjNOLxNU",
        "outputId": "51b6876d-1f27-44f7-a2f7-39f0daa05628",
        "colab": {
          "base_uri": "https://localhost:8080/",
          "height": 419
        }
      },
      "source": [
        "%%bigquery --project ba775-team-4b\n",
        "SELECT a.user_id, \n",
        "a.cart_count, \n",
        "ifnull(b.purchase_count,0) as purchase_count,  \n",
        "round((ifnull(b.purchase_count,0)/a.cart_count),3)as purchase_rate,\n",
        "round((1-(ifnull(b.purchase_count,0)/a.cart_count)),3) as abandon_rate\n",
        "FROM `ba775-team-4b.4b_dataset.cart_count_per_user_id` a \n",
        "left join \n",
        "`ba775-team-4b.4b_dataset.purchase_count_per_user_id` b\n",
        "using (user_id)\n",
        "where a.cart_count>=b.purchase_count and round((1-(ifnull(b.purchase_count,0)/a.cart_count)),3)\t> 0.9\n",
        "order by abandon_rate desc"
      ],
      "execution_count": null,
      "outputs": [
        {
          "output_type": "execute_result",
          "data": {
            "text/html": [
              "<div>\n",
              "<style scoped>\n",
              "    .dataframe tbody tr th:only-of-type {\n",
              "        vertical-align: middle;\n",
              "    }\n",
              "\n",
              "    .dataframe tbody tr th {\n",
              "        vertical-align: top;\n",
              "    }\n",
              "\n",
              "    .dataframe thead th {\n",
              "        text-align: right;\n",
              "    }\n",
              "</style>\n",
              "<table border=\"1\" class=\"dataframe\">\n",
              "  <thead>\n",
              "    <tr style=\"text-align: right;\">\n",
              "      <th></th>\n",
              "      <th>user_id</th>\n",
              "      <th>cart_count</th>\n",
              "      <th>purchase_count</th>\n",
              "      <th>purchase_rate</th>\n",
              "      <th>abandon_rate</th>\n",
              "    </tr>\n",
              "  </thead>\n",
              "  <tbody>\n",
              "    <tr>\n",
              "      <th>0</th>\n",
              "      <td>561551750</td>\n",
              "      <td>360</td>\n",
              "      <td>1</td>\n",
              "      <td>0.003</td>\n",
              "      <td>0.997</td>\n",
              "    </tr>\n",
              "    <tr>\n",
              "      <th>1</th>\n",
              "      <td>608003747</td>\n",
              "      <td>195</td>\n",
              "      <td>1</td>\n",
              "      <td>0.005</td>\n",
              "      <td>0.995</td>\n",
              "    </tr>\n",
              "    <tr>\n",
              "      <th>2</th>\n",
              "      <td>563734569</td>\n",
              "      <td>190</td>\n",
              "      <td>1</td>\n",
              "      <td>0.005</td>\n",
              "      <td>0.995</td>\n",
              "    </tr>\n",
              "    <tr>\n",
              "      <th>3</th>\n",
              "      <td>550184410</td>\n",
              "      <td>183</td>\n",
              "      <td>1</td>\n",
              "      <td>0.005</td>\n",
              "      <td>0.995</td>\n",
              "    </tr>\n",
              "    <tr>\n",
              "      <th>4</th>\n",
              "      <td>556674722</td>\n",
              "      <td>158</td>\n",
              "      <td>1</td>\n",
              "      <td>0.006</td>\n",
              "      <td>0.994</td>\n",
              "    </tr>\n",
              "    <tr>\n",
              "      <th>...</th>\n",
              "      <td>...</td>\n",
              "      <td>...</td>\n",
              "      <td>...</td>\n",
              "      <td>...</td>\n",
              "      <td>...</td>\n",
              "    </tr>\n",
              "    <tr>\n",
              "      <th>5522</th>\n",
              "      <td>571554341</td>\n",
              "      <td>41</td>\n",
              "      <td>4</td>\n",
              "      <td>0.098</td>\n",
              "      <td>0.902</td>\n",
              "    </tr>\n",
              "    <tr>\n",
              "      <th>5523</th>\n",
              "      <td>514207043</td>\n",
              "      <td>41</td>\n",
              "      <td>4</td>\n",
              "      <td>0.098</td>\n",
              "      <td>0.902</td>\n",
              "    </tr>\n",
              "    <tr>\n",
              "      <th>5524</th>\n",
              "      <td>513217248</td>\n",
              "      <td>41</td>\n",
              "      <td>4</td>\n",
              "      <td>0.098</td>\n",
              "      <td>0.902</td>\n",
              "    </tr>\n",
              "    <tr>\n",
              "      <th>5525</th>\n",
              "      <td>529177706</td>\n",
              "      <td>41</td>\n",
              "      <td>4</td>\n",
              "      <td>0.098</td>\n",
              "      <td>0.902</td>\n",
              "    </tr>\n",
              "    <tr>\n",
              "      <th>5526</th>\n",
              "      <td>544584892</td>\n",
              "      <td>71</td>\n",
              "      <td>7</td>\n",
              "      <td>0.099</td>\n",
              "      <td>0.901</td>\n",
              "    </tr>\n",
              "  </tbody>\n",
              "</table>\n",
              "<p>5527 rows × 5 columns</p>\n",
              "</div>"
            ],
            "text/plain": [
              "        user_id  cart_count  purchase_count  purchase_rate  abandon_rate\n",
              "0     561551750         360               1          0.003         0.997\n",
              "1     608003747         195               1          0.005         0.995\n",
              "2     563734569         190               1          0.005         0.995\n",
              "3     550184410         183               1          0.005         0.995\n",
              "4     556674722         158               1          0.006         0.994\n",
              "...         ...         ...             ...            ...           ...\n",
              "5522  571554341          41               4          0.098         0.902\n",
              "5523  514207043          41               4          0.098         0.902\n",
              "5524  513217248          41               4          0.098         0.902\n",
              "5525  529177706          41               4          0.098         0.902\n",
              "5526  544584892          71               7          0.099         0.901\n",
              "\n",
              "[5527 rows x 5 columns]"
            ]
          },
          "metadata": {
            "tags": []
          },
          "execution_count": 2
        }
      ]
    },
    {
      "cell_type": "code",
      "metadata": {
        "id": "ajJAoOMGf8dg",
        "outputId": "55c67ea3-f119-48b1-d515-ed3596b8a998",
        "colab": {
          "base_uri": "https://localhost:8080/",
          "height": 419
        }
      },
      "source": [
        "%%bigquery --project ba775-team-4b\n",
        "SELECT a.user_id, \n",
        "a.cart_count, \n",
        "ifnull(b.purchase_count,0) as purchase_count,  \n",
        "round((ifnull(b.purchase_count,0)/a.cart_count),3)as purchase_rate,\n",
        "round((1-(ifnull(b.purchase_count,0)/a.cart_count)),3) as abandon_rate\n",
        "FROM `ba775-team-4b.4b_dataset.purchase_per_userid _april` a \n",
        "left join \n",
        "`ba775-team-4b.4b_dataset.purchase_count_per_userid_april` b\n",
        "using (user_id)\n",
        "where a.cart_count>=b.purchase_count and round((1-(ifnull(b.purchase_count,0)/a.cart_count)),3)\t> 0.9\n",
        "order by abandon_rate desc"
      ],
      "execution_count": null,
      "outputs": [
        {
          "output_type": "execute_result",
          "data": {
            "text/html": [
              "<div>\n",
              "<style scoped>\n",
              "    .dataframe tbody tr th:only-of-type {\n",
              "        vertical-align: middle;\n",
              "    }\n",
              "\n",
              "    .dataframe tbody tr th {\n",
              "        vertical-align: top;\n",
              "    }\n",
              "\n",
              "    .dataframe thead th {\n",
              "        text-align: right;\n",
              "    }\n",
              "</style>\n",
              "<table border=\"1\" class=\"dataframe\">\n",
              "  <thead>\n",
              "    <tr style=\"text-align: right;\">\n",
              "      <th></th>\n",
              "      <th>user_id</th>\n",
              "      <th>cart_count</th>\n",
              "      <th>purchase_count</th>\n",
              "      <th>purchase_rate</th>\n",
              "      <th>abandon_rate</th>\n",
              "    </tr>\n",
              "  </thead>\n",
              "  <tbody>\n",
              "    <tr>\n",
              "      <th>0</th>\n",
              "      <td>635323703</td>\n",
              "      <td>314</td>\n",
              "      <td>1</td>\n",
              "      <td>0.003</td>\n",
              "      <td>0.997</td>\n",
              "    </tr>\n",
              "    <tr>\n",
              "      <th>1</th>\n",
              "      <td>636877416</td>\n",
              "      <td>275</td>\n",
              "      <td>1</td>\n",
              "      <td>0.004</td>\n",
              "      <td>0.996</td>\n",
              "    </tr>\n",
              "    <tr>\n",
              "      <th>2</th>\n",
              "      <td>622860781</td>\n",
              "      <td>171</td>\n",
              "      <td>1</td>\n",
              "      <td>0.006</td>\n",
              "      <td>0.994</td>\n",
              "    </tr>\n",
              "    <tr>\n",
              "      <th>3</th>\n",
              "      <td>532696490</td>\n",
              "      <td>164</td>\n",
              "      <td>1</td>\n",
              "      <td>0.006</td>\n",
              "      <td>0.994</td>\n",
              "    </tr>\n",
              "    <tr>\n",
              "      <th>4</th>\n",
              "      <td>589825766</td>\n",
              "      <td>153</td>\n",
              "      <td>1</td>\n",
              "      <td>0.007</td>\n",
              "      <td>0.993</td>\n",
              "    </tr>\n",
              "    <tr>\n",
              "      <th>...</th>\n",
              "      <td>...</td>\n",
              "      <td>...</td>\n",
              "      <td>...</td>\n",
              "      <td>...</td>\n",
              "      <td>...</td>\n",
              "    </tr>\n",
              "    <tr>\n",
              "      <th>7175</th>\n",
              "      <td>574687240</td>\n",
              "      <td>41</td>\n",
              "      <td>4</td>\n",
              "      <td>0.098</td>\n",
              "      <td>0.902</td>\n",
              "    </tr>\n",
              "    <tr>\n",
              "      <th>7176</th>\n",
              "      <td>622006975</td>\n",
              "      <td>41</td>\n",
              "      <td>4</td>\n",
              "      <td>0.098</td>\n",
              "      <td>0.902</td>\n",
              "    </tr>\n",
              "    <tr>\n",
              "      <th>7177</th>\n",
              "      <td>532167047</td>\n",
              "      <td>41</td>\n",
              "      <td>4</td>\n",
              "      <td>0.098</td>\n",
              "      <td>0.902</td>\n",
              "    </tr>\n",
              "    <tr>\n",
              "      <th>7178</th>\n",
              "      <td>635886225</td>\n",
              "      <td>41</td>\n",
              "      <td>4</td>\n",
              "      <td>0.098</td>\n",
              "      <td>0.902</td>\n",
              "    </tr>\n",
              "    <tr>\n",
              "      <th>7179</th>\n",
              "      <td>625541554</td>\n",
              "      <td>41</td>\n",
              "      <td>4</td>\n",
              "      <td>0.098</td>\n",
              "      <td>0.902</td>\n",
              "    </tr>\n",
              "  </tbody>\n",
              "</table>\n",
              "<p>7180 rows × 5 columns</p>\n",
              "</div>"
            ],
            "text/plain": [
              "        user_id  cart_count  purchase_count  purchase_rate  abandon_rate\n",
              "0     635323703         314               1          0.003         0.997\n",
              "1     636877416         275               1          0.004         0.996\n",
              "2     622860781         171               1          0.006         0.994\n",
              "3     532696490         164               1          0.006         0.994\n",
              "4     589825766         153               1          0.007         0.993\n",
              "...         ...         ...             ...            ...           ...\n",
              "7175  574687240          41               4          0.098         0.902\n",
              "7176  622006975          41               4          0.098         0.902\n",
              "7177  532167047          41               4          0.098         0.902\n",
              "7178  635886225          41               4          0.098         0.902\n",
              "7179  625541554          41               4          0.098         0.902\n",
              "\n",
              "[7180 rows x 5 columns]"
            ]
          },
          "metadata": {
            "tags": []
          },
          "execution_count": 2
        }
      ]
    },
    {
      "cell_type": "markdown",
      "metadata": {
        "id": "vJ3KW-7vgBvK"
      },
      "source": [
        "The abandon rate can be used as the metric to evaluate the purchase power of the users. The abandon rate of a certain user = 1-(number of 'purchase' event /number of 'cart' event). Only the user info with high abandon rate(#>0.9) is included and have the potential to work on increasing sales conversion, such as sending target promotions, poping promotional codes, running market campaigns, etc. \n",
        "\n",
        "Note: We noticed that for some users purchased more than they carted and will make abandon rate calculated less than 0, which can be high indication of purchase power. Hereby we dropped those users as they are not target audience for this part. "
      ]
    },
    {
      "cell_type": "markdown",
      "metadata": {
        "id": "65YFR-Kba1Hb"
      },
      "source": [
        "# Machine Learning"
      ]
    },
    {
      "cell_type": "code",
      "metadata": {
        "id": "n5pRWhm7WtAr"
      },
      "source": [
        "# Using product features\n",
        "CREATE MODEL\n",
        "  model.products\n",
        "OPTIONS\n",
        "  ( model_type = 'kmeans',\n",
        "    num_clusters = 2,\n",
        "    distance_type = 'euclidean') AS\n",
        "SELECT \n",
        "category_code, brand, price, count(product_id)\n",
        "FROM `ba775-team-4b.4b_dataset.ecommerce_april_2020`\n",
        "WHERE event_type='purchase'\n",
        "GROUP BY category_code, product_id, brand, price"
      ],
      "execution_count": null,
      "outputs": []
    },
    {
      "cell_type": "code",
      "metadata": {
        "id": "SKgLD5SYWtQ6"
      },
      "source": [
        "# Using users features\n",
        "## have already create a new table `ba775-team-4b.4b_dataset.different_categories_april_2020`-only use large categories-13 distinct categories\n",
        "CREATE MODEL\n",
        "  model.users\n",
        "OPTIONS\n",
        "  ( model_type = 'kmeans',\n",
        "    num_clusters = 2,\n",
        "    distance_type = 'euclidean') AS\n",
        "SELECT \n",
        "num_of_accessories,num_of_apparel,num_of_appliances,num_of_auto,num_of_computers,num_of_construction,num_of_country_yard,num_of_electronics,num_of_furniture,num_of_kids,num_of_medicine,num_of_sport,num_of_stationery\n",
        "FROM `ba775-team-4b.4b_dataset.different_categories_april_2020`"
      ],
      "execution_count": null,
      "outputs": []
    },
    {
      "cell_type": "markdown",
      "metadata": {
        "id": "bNWOGoIccJRD"
      },
      "source": [
        "# Tableau Dashboard \n",
        "\n",
        "https://prod-useast-a.online.tableau.com/t/soltaniehha/views/BA775Team4bProject_16040742108920/EcommerceDashboard?:origin=card_share_link&:embed=n"
      ]
    },
    {
      "cell_type": "code",
      "metadata": {
        "id": "w7NkBGe-cWCV"
      },
      "source": [
        "from IPython.display import Image"
      ],
      "execution_count": null,
      "outputs": []
    },
    {
      "cell_type": "code",
      "metadata": {
        "id": "mO8rE5oFuaEg",
        "outputId": "881e32f7-0227-4a7b-fc80-0f6735a5429a",
        "colab": {
          "base_uri": "https://localhost:8080/",
          "height": 875
        }
      },
      "source": [
        "# Top Purchase Brand of Feberary and April\n",
        "Image(filename='Top Brand.png')"
      ],
      "execution_count": null,
      "outputs": [
        {
          "output_type": "execute_result",
          "data": {
            "image/png": "[encoded data removed]",
            "text/plain": [
              "<IPython.core.display.Image object>"
            ]
          },
          "metadata": {
            "tags": []
          },
          "execution_count": 3
        }
      ]
    },
    {
      "cell_type": "code",
      "metadata": {
        "id": "DUEq9VL6uall",
        "outputId": "e85694d6-157d-4400-c146-878a7b344341",
        "colab": {
          "base_uri": "https://localhost:8080/",
          "height": 869
        }
      },
      "source": [
        "# Abandon Rate of Feberary and April\n",
        "Image(filename='Abandon Rate.png')"
      ],
      "execution_count": null,
      "outputs": [
        {
          "output_type": "execute_result",
          "data": {
            "image/png": "[encoded data removed]",
            "text/plain": [
              "<IPython.core.display.Image object>"
            ]
          },
          "metadata": {
            "tags": []
          },
          "execution_count": 4
        }
      ]
    },
    {
      "cell_type": "code",
      "metadata": {
        "id": "v7ngbpKFulR-"
      },
      "source": [
        ""
      ],
      "execution_count": null,
      "outputs": []
    }
  ]
}